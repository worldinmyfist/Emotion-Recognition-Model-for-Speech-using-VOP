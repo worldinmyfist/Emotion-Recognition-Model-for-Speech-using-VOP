{
 "cells": [
  {
   "cell_type": "markdown",
   "metadata": {},
   "source": [
    "# Importing important Packages and Libraries."
   ]
  },
  {
   "cell_type": "code",
   "execution_count": 5,
   "metadata": {},
   "outputs": [],
   "source": [
    "import numpy as np\n",
    "import scipy.io.wavfile as wav\n",
    "import os\n",
    "import scipy\n",
    "import os.path\n",
    "import librosa\n",
    "import _pickle as cPickle\n",
    "from python_speech_features import mfcc,delta,ssc,logfbank"
   ]
  },
  {
   "cell_type": "markdown",
   "metadata": {},
   "source": [
    "# Defining parameters"
   ]
  },
  {
   "cell_type": "code",
   "execution_count": 6,
   "metadata": {},
   "outputs": [],
   "source": [
    "numfeatper=7\n",
    "mfc= 13\n",
    "dell=13\n",
    "sscc=26\n",
    "filtt=13"
   ]
  },
  {
   "cell_type": "markdown",
   "metadata": {},
   "source": [
    "# Defining function that extracts important features from the wave file"
   ]
  },
  {
   "cell_type": "code",
   "execution_count": 7,
   "metadata": {},
   "outputs": [],
   "source": [
    "def featurex(filepath):\n",
    "    \n",
    "    #Reading the audio file\n",
    "    (rate,X) = wav.read(filepath)\n",
    "   \n",
    "    #Extracting features from the audio \n",
    "    ceps = mfcc(X,rate,numcep = mfc)\n",
    "    delt=delta(ceps,2)\n",
    "    sscz=ssc(X,rate)\n",
    "    filt=delta(delt,2)\n",
    "    \n",
    "    #Finding mean, max, min and other attributes from the extracted features\n",
    "    ls = []\n",
    "    for i in range(ceps.shape[1]):\n",
    "        temp = ceps[:,i]\n",
    "        lfeatures  = [np.mean(temp), np.var(temp), np.amax(temp), np.amin(temp),scipy.stats.kurtosis(temp), scipy.stats.skew(temp),scipy.stats.iqr(temp)]\n",
    "        temp2 = np.array(lfeatures)\n",
    "        ls.append(temp2)\n",
    "    ls2=[]\n",
    "    for i in range(delt.shape[1]):\n",
    "        dtemp = delt[:,i]\n",
    "        dlfeatures  = [np.mean(dtemp), np.var(dtemp), np.amax(dtemp), np.amin(dtemp),scipy.stats.kurtosis(dtemp), scipy.stats.skew(dtemp),scipy.stats.iqr(dtemp)]\n",
    "        dtemp2 = np.array(dlfeatures)\n",
    "        ls2.append(dtemp2)\n",
    "    ls3=[]\n",
    "    for i in range(sscz.shape[1]):\n",
    "        stemp = sscz[:,i]\n",
    "        slfeatures  = [np.mean(stemp), np.var(stemp), np.amax(stemp), np.amin(stemp),scipy.stats.kurtosis(stemp), scipy.stats.skew(stemp),scipy.stats.iqr(stemp)]\n",
    "        stemp3 = np.array(slfeatures)\n",
    "        ls3.append(stemp3)\n",
    "    ls4=[]\n",
    "    for i in range(filt.shape[1]):\n",
    "        ftemp=filt[:,i]\n",
    "        flfeatures=[np.mean(ftemp), np.var(ftemp), np.amax(ftemp), np.amin(ftemp),scipy.stats.kurtosis(ftemp), scipy.stats.skew(ftemp),scipy.stats.iqr(ftemp)]\n",
    "        ftemp4 = np.array(flfeatures)\n",
    "        ls4.append(ftemp4)\n",
    "    \n",
    "    \n",
    "    source = np.array(ls).flatten()\n",
    "    source = np.append(source, np.array(ls2).flatten())\n",
    "    source = np.append(source, np.array(ls3).flatten())\n",
    "    source = np.append(source, np.array(ls4).flatten())\n",
    "\n",
    "    return source"
   ]
  },
  {
   "cell_type": "markdown",
   "metadata": {},
   "source": [
    "# Defining the function that maps all features to the emotions"
   ]
  },
  {
   "cell_type": "code",
   "execution_count": 9,
   "metadata": {
    "scrolled": true
   },
   "outputs": [
    {
     "name": "stdout",
     "output_type": "stream",
     "text": [
      "(1, 455)\n",
      "kuhu_W.wav\n",
      "16000\n",
      "[0]\n",
      "(1, 455)\n",
      "(1,)\n"
     ]
    }
   ],
   "source": [
    "def read_emodb(img_cols=(mfc+sscc+dell+filtt)*numfeatper):\n",
    "    \n",
    "    #Defining directories to be used\n",
    "    rootdir = \"./practical_test/wav/\"\n",
    "    \n",
    "    #Total number of files\n",
    "    num = 1\n",
    "    \n",
    "    #Defining alphabet for each emotion\n",
    "    solns=['W','L','E','A','F','T','N']\n",
    "    \n",
    "    #Defining data\n",
    "    data=np.empty(shape=(num, img_cols))\n",
    "    print(data.shape)\n",
    "    \n",
    "    label = []\n",
    "    i=0\n",
    "    \n",
    "    #Iterating thru each wave file\n",
    "    for filename in os.listdir(rootdir):\n",
    "        \n",
    "        name = \"\".join(filename)\n",
    "        full_name = rootdir+name\n",
    "        print(filename)\n",
    "        \n",
    "        #Extracting features and giving labels\n",
    "        data[i]=featurex(full_name)\n",
    "        label.append(solns.index(filename[5]))\n",
    "        i=i+1\n",
    "    \n",
    "    #Attaching label to data   \n",
    "    label=np.array(label)\n",
    "    f = open('./practical_test.pkl', 'wb')\n",
    "    cPickle.dump((data, label), f)\n",
    "    print(data.shape)\n",
    "    print(label.shape)\n",
    "    f.close()\n",
    "\n",
    "read_emodb()"
   ]
  },
  {
   "cell_type": "code",
   "execution_count": null,
   "metadata": {},
   "outputs": [],
   "source": []
  }
 ],
 "metadata": {
  "kernelspec": {
   "display_name": "Python 3",
   "language": "python",
   "name": "python3"
  },
  "language_info": {
   "codemirror_mode": {
    "name": "ipython",
    "version": 3
   },
   "file_extension": ".py",
   "mimetype": "text/x-python",
   "name": "python",
   "nbconvert_exporter": "python",
   "pygments_lexer": "ipython3",
   "version": "3.8.3"
  }
 },
 "nbformat": 4,
 "nbformat_minor": 4
}
